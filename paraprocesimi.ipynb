{
 "cells": [
  {
   "cell_type": "code",
   "execution_count": 91,
   "metadata": {},
   "outputs": [],
   "source": [
    "import pandas as pd\n",
    "import numpy as np\n",
    "import matplotlib.pyplot as plt"
   ]
  },
  {
   "cell_type": "code",
   "execution_count": 92,
   "metadata": {},
   "outputs": [
    {
     "name": "stdout",
     "output_type": "stream",
     "text": [
      "<class 'pandas.core.frame.DataFrame'>\n",
      "RangeIndex: 991346 entries, 0 to 991345\n",
      "Data columns (total 24 columns):\n",
      " #   Column            Non-Null Count   Dtype  \n",
      "---  ------            --------------   -----  \n",
      " 0   sex               991346 non-null  object \n",
      " 1   age               991346 non-null  int64  \n",
      " 2   height            991346 non-null  int64  \n",
      " 3   weight            991346 non-null  int64  \n",
      " 4   waistline         991346 non-null  float64\n",
      " 5   sight_left        991346 non-null  float64\n",
      " 6   sight_right       991346 non-null  float64\n",
      " 7   hear_left         991346 non-null  float64\n",
      " 8   hear_right        991346 non-null  float64\n",
      " 9   SBP               991346 non-null  float64\n",
      " 10  DBP               991346 non-null  float64\n",
      " 11  BLDS              991346 non-null  float64\n",
      " 12  tot_chole         991346 non-null  float64\n",
      " 13  HDL_chole         991346 non-null  float64\n",
      " 14  LDL_chole         991346 non-null  float64\n",
      " 15  triglyceride      991346 non-null  float64\n",
      " 16  hemoglobin        991346 non-null  float64\n",
      " 17  urine_protein     991346 non-null  float64\n",
      " 18  serum_creatinine  991346 non-null  float64\n",
      " 19  SGOT_AST          991346 non-null  float64\n",
      " 20  SGOT_ALT          991346 non-null  float64\n",
      " 21  gamma_GTP         991346 non-null  float64\n",
      " 22  SMK_stat_type_cd  991346 non-null  float64\n",
      " 23  DRK_YN            991346 non-null  object \n",
      "dtypes: float64(19), int64(3), object(2)\n",
      "memory usage: 181.5+ MB\n"
     ]
    }
   ],
   "source": [
    "df = pd.read_csv('./smoking_driking_dataset.csv')\n",
    "\n",
    "# shfaq te informatat per datasetin\n",
    "df.info()"
   ]
  },
  {
   "cell_type": "code",
   "execution_count": 93,
   "metadata": {},
   "outputs": [
    {
     "name": "stdout",
     "output_type": "stream",
     "text": [
      "DataFrame after dropping columns:\n",
      "           sex  age  height  weight    SBP   DBP   BLDS  tot_chole  HDL_chole  \\\n",
      "0         Male   35     170      75  120.0  80.0   99.0      193.0       48.0   \n",
      "1         Male   30     180      80  130.0  82.0  106.0      228.0       55.0   \n",
      "2         Male   40     165      75  120.0  70.0   98.0      136.0       41.0   \n",
      "3         Male   50     175      80  145.0  87.0   95.0      201.0       76.0   \n",
      "4         Male   50     165      60  138.0  82.0  101.0      199.0       61.0   \n",
      "...        ...  ...     ...     ...    ...   ...    ...        ...        ...   \n",
      "991341    Male   45     175      80  114.0  80.0   88.0      198.0       46.0   \n",
      "991342    Male   35     170      75  119.0  83.0   83.0      133.0       40.0   \n",
      "991343  Female   40     155      50  110.0  70.0   90.0      205.0       96.0   \n",
      "991344    Male   25     175      60  119.0  74.0   69.0      122.0       38.0   \n",
      "991345    Male   50     160      70  133.0  79.0   99.0      225.0       39.0   \n",
      "\n",
      "        LDL_chole  triglyceride  hemoglobin  SMK_stat_type_cd DRK_YN  \n",
      "0           126.0          92.0        17.1               1.0      Y  \n",
      "1           148.0         121.0        15.8               3.0      N  \n",
      "2            74.0         104.0        15.8               1.0      N  \n",
      "3           104.0         106.0        17.6               1.0      N  \n",
      "4           117.0         104.0        13.8               1.0      N  \n",
      "...           ...           ...         ...               ...    ...  \n",
      "991341      125.0         132.0        15.0               1.0      N  \n",
      "991342       84.0          45.0        15.8               1.0      N  \n",
      "991343       77.0         157.0        14.3               3.0      Y  \n",
      "991344       73.0          53.0        14.5               1.0      N  \n",
      "991345      153.0         163.0        15.8               3.0      Y  \n",
      "\n",
      "[991346 rows x 14 columns]\n"
     ]
    }
   ],
   "source": [
    "# Drop columns that we don't need\n",
    "columns_to_drop = ['waistline', 'sight_left', 'sight_right', 'hear_left', 'hear_right', 'SGOT_AST', 'SGOT_ALT', 'gamma_GTP', 'serum_creatinine', 'urine_protein']\n",
    "df = df.drop(columns=columns_to_drop)\n",
    "\n",
    "print(\"DataFrame after dropping columns:\")\n",
    "print(df)"
   ]
  },
  {
   "cell_type": "code",
   "execution_count": 94,
   "metadata": {},
   "outputs": [],
   "source": [
    "import great_expectations as gx\n",
    "\n",
    "context = gx.get_context()\n",
    "\n",
    "validator = context.sources.pandas_default.read_csv(\n",
    "    \"./smoking_driking_dataset.csv\"\n",
    ")"
   ]
  },
  {
   "cell_type": "code",
   "execution_count": 95,
   "metadata": {},
   "outputs": [
    {
     "data": {
      "application/vnd.jupyter.widget-view+json": {
       "model_id": "8b833d1395f040ceb2fbe1dbfa159401",
       "version_major": 2,
       "version_minor": 0
      },
      "text/plain": [
       "Calculating Metrics:   0%|          | 0/8 [00:00<?, ?it/s]"
      ]
     },
     "metadata": {},
     "output_type": "display_data"
    },
    {
     "data": {
      "text/plain": [
       "{\n",
       "  \"success\": true,\n",
       "  \"result\": {\n",
       "    \"element_count\": 991346,\n",
       "    \"unexpected_count\": 0,\n",
       "    \"unexpected_percent\": 0.0,\n",
       "    \"partial_unexpected_list\": [],\n",
       "    \"missing_count\": 0,\n",
       "    \"missing_percent\": 0.0,\n",
       "    \"unexpected_percent_total\": 0.0,\n",
       "    \"unexpected_percent_nonmissing\": 0.0\n",
       "  },\n",
       "  \"meta\": {},\n",
       "  \"exception_info\": {\n",
       "    \"raised_exception\": false,\n",
       "    \"exception_traceback\": null,\n",
       "    \"exception_message\": null\n",
       "  }\n",
       "}"
      ]
     },
     "execution_count": 95,
     "metadata": {},
     "output_type": "execute_result"
    }
   ],
   "source": [
    "validator.expect_column_values_to_be_between(column='age', min_value=20, max_value=90)"
   ]
  },
  {
   "cell_type": "code",
   "execution_count": 96,
   "metadata": {},
   "outputs": [
    {
     "data": {
      "application/vnd.jupyter.widget-view+json": {
       "model_id": "35a2d4cf96e54c5ca680cc14ade74278",
       "version_major": 2,
       "version_minor": 0
      },
      "text/plain": [
       "Calculating Metrics:   0%|          | 0/8 [00:00<?, ?it/s]"
      ]
     },
     "metadata": {},
     "output_type": "display_data"
    },
    {
     "data": {
      "text/plain": [
       "{\n",
       "  \"success\": true,\n",
       "  \"result\": {\n",
       "    \"element_count\": 991346,\n",
       "    \"unexpected_count\": 0,\n",
       "    \"unexpected_percent\": 0.0,\n",
       "    \"partial_unexpected_list\": [],\n",
       "    \"missing_count\": 0,\n",
       "    \"missing_percent\": 0.0,\n",
       "    \"unexpected_percent_total\": 0.0,\n",
       "    \"unexpected_percent_nonmissing\": 0.0\n",
       "  },\n",
       "  \"meta\": {},\n",
       "  \"exception_info\": {\n",
       "    \"raised_exception\": false,\n",
       "    \"exception_traceback\": null,\n",
       "    \"exception_message\": null\n",
       "  }\n",
       "}"
      ]
     },
     "execution_count": 96,
     "metadata": {},
     "output_type": "execute_result"
    }
   ],
   "source": [
    "validator.expect_column_values_to_be_in_set(column='sex', value_set=['Male', 'Female'])"
   ]
  },
  {
   "cell_type": "code",
   "execution_count": 97,
   "metadata": {},
   "outputs": [
    {
     "data": {
      "application/vnd.jupyter.widget-view+json": {
       "model_id": "17570959ac27400f9c9f7477458cd96e",
       "version_major": 2,
       "version_minor": 0
      },
      "text/plain": [
       "Calculating Metrics:   0%|          | 0/8 [00:00<?, ?it/s]"
      ]
     },
     "metadata": {},
     "output_type": "display_data"
    },
    {
     "data": {
      "text/plain": [
       "{\n",
       "  \"success\": true,\n",
       "  \"result\": {\n",
       "    \"element_count\": 991346,\n",
       "    \"unexpected_count\": 0,\n",
       "    \"unexpected_percent\": 0.0,\n",
       "    \"partial_unexpected_list\": [],\n",
       "    \"missing_count\": 0,\n",
       "    \"missing_percent\": 0.0,\n",
       "    \"unexpected_percent_total\": 0.0,\n",
       "    \"unexpected_percent_nonmissing\": 0.0\n",
       "  },\n",
       "  \"meta\": {},\n",
       "  \"exception_info\": {\n",
       "    \"raised_exception\": false,\n",
       "    \"exception_traceback\": null,\n",
       "    \"exception_message\": null\n",
       "  }\n",
       "}"
      ]
     },
     "execution_count": 97,
     "metadata": {},
     "output_type": "execute_result"
    }
   ],
   "source": [
    "validator.expect_column_values_to_be_in_set(column='DRK_YN', value_set=['Y', 'N'])"
   ]
  },
  {
   "cell_type": "code",
   "execution_count": 98,
   "metadata": {},
   "outputs": [
    {
     "data": {
      "application/vnd.jupyter.widget-view+json": {
       "model_id": "1fea14583be046c0a41b9c60541da7ae",
       "version_major": 2,
       "version_minor": 0
      },
      "text/plain": [
       "Calculating Metrics:   0%|          | 0/8 [00:00<?, ?it/s]"
      ]
     },
     "metadata": {},
     "output_type": "display_data"
    },
    {
     "data": {
      "text/plain": [
       "{\n",
       "  \"success\": true,\n",
       "  \"result\": {\n",
       "    \"element_count\": 991346,\n",
       "    \"unexpected_count\": 0,\n",
       "    \"unexpected_percent\": 0.0,\n",
       "    \"partial_unexpected_list\": [],\n",
       "    \"missing_count\": 0,\n",
       "    \"missing_percent\": 0.0,\n",
       "    \"unexpected_percent_total\": 0.0,\n",
       "    \"unexpected_percent_nonmissing\": 0.0\n",
       "  },\n",
       "  \"meta\": {},\n",
       "  \"exception_info\": {\n",
       "    \"raised_exception\": false,\n",
       "    \"exception_traceback\": null,\n",
       "    \"exception_message\": null\n",
       "  }\n",
       "}"
      ]
     },
     "execution_count": 98,
     "metadata": {},
     "output_type": "execute_result"
    }
   ],
   "source": [
    "validator.expect_column_values_to_be_in_set(column='SMK_stat_type_cd', value_set=[1.0, 2.0,3.0])"
   ]
  },
  {
   "cell_type": "code",
   "execution_count": 99,
   "metadata": {},
   "outputs": [
    {
     "name": "stdout",
     "output_type": "stream",
     "text": [
      "First occurrences of duplicates:\n",
      "           sex  age  height  weight    SBP    DBP   BLDS  tot_chole  \\\n",
      "159911  Female   40     170      85  120.0   70.0  110.0      191.0   \n",
      "175152    Male   65     170      75  130.0   70.0  114.0      175.0   \n",
      "246305  Female   50     155      70  150.0   96.0  101.0      230.0   \n",
      "280830    Male   45     170      75  150.0   78.0  195.0      222.0   \n",
      "284528  Female   65     150      55  120.0   65.0   99.0      228.0   \n",
      "290463  Female   20     160      50  106.0   68.0   76.0      154.0   \n",
      "335747    Male   50     180      95  177.0  111.0  141.0      184.0   \n",
      "429596    Male   75     160      60  105.0   70.0  114.0      218.0   \n",
      "453451    Male   35     170      65  130.0   78.0   99.0      149.0   \n",
      "471596  Female   45     165      65  120.0   80.0   87.0      178.0   \n",
      "479756    Male   50     165      65  115.0   75.0   96.0      219.0   \n",
      "555137    Male   30     165      95  122.0   79.0   92.0      243.0   \n",
      "558263  Female   65     145      50  154.0   96.0   86.0      268.0   \n",
      "568854    Male   50     170      65  127.0   81.0  100.0      199.0   \n",
      "668305  Female   55     140      50  134.0   88.0   81.0      208.0   \n",
      "671067    Male   60     165      70  130.0   80.0   86.0      188.0   \n",
      "686628  Female   65     155      55  130.0   80.0  125.0      294.0   \n",
      "727207    Male   40     170      70  120.0   70.0  106.0      199.0   \n",
      "746077    Male   25     180      70  122.0   78.0   91.0      115.0   \n",
      "779854    Male   55     170      60  128.0   86.0   96.0      233.0   \n",
      "804343    Male   40     175      80  138.0   88.0   96.0      268.0   \n",
      "834790  Female   30     150      45  100.0   60.0  106.0      181.0   \n",
      "872213    Male   35     170     105  130.0   80.0  167.0      209.0   \n",
      "953247    Male   35     180      85  120.0   70.0  130.0      155.0   \n",
      "973015    Male   35     170      95  122.0   78.0   61.0      242.0   \n",
      "982525  Female   40     160      55  120.0   80.0   97.0      184.0   \n",
      "\n",
      "        HDL_chole  LDL_chole  triglyceride  hemoglobin  SMK_stat_type_cd  \\\n",
      "159911       47.0      121.0         115.0        10.4               1.0   \n",
      "175152       38.0      109.0         140.0        17.1               3.0   \n",
      "246305       43.0      150.0         183.0        14.9               1.0   \n",
      "280830       55.0      122.0         499.0        14.9               3.0   \n",
      "284528       62.0      139.0         136.0        11.9               1.0   \n",
      "290463       45.0       98.0          56.0        12.7               1.0   \n",
      "335747       43.0      120.0         105.0        15.0               3.0   \n",
      "429596       52.0      150.0          82.0        16.0               1.0   \n",
      "453451       44.0       80.0         126.0        14.7               2.0   \n",
      "471596       64.0      103.0          53.0        13.6               1.0   \n",
      "479756       51.0      154.0          71.0        15.3               2.0   \n",
      "555137       40.0      140.0         313.0        17.4               2.0   \n",
      "558263       65.0      160.0         212.0        16.2               1.0   \n",
      "568854       74.0      102.0         113.0        14.4               2.0   \n",
      "668305       44.0      121.0         456.0        13.8               1.0   \n",
      "671067       42.0      123.0         113.0        16.8               3.0   \n",
      "686628       52.0      185.0         283.0        13.8               1.0   \n",
      "727207       46.0      131.0         106.0        15.6               3.0   \n",
      "746077       40.0       57.0          92.0        16.1               3.0   \n",
      "779854       48.0      126.0         294.0        16.7               2.0   \n",
      "804343       37.0      146.0         635.0        15.3               3.0   \n",
      "834790       72.0       90.0          93.0        12.0               1.0   \n",
      "872213       49.0      120.0         200.0        15.0               3.0   \n",
      "953247       30.0       83.0         461.0        15.3               3.0   \n",
      "973015       51.0      168.0         117.0        15.2               2.0   \n",
      "982525       64.0      102.0          87.0        13.0               2.0   \n",
      "\n",
      "       DRK_YN  \n",
      "159911      N  \n",
      "175152      N  \n",
      "246305      N  \n",
      "280830      Y  \n",
      "284528      N  \n",
      "290463      N  \n",
      "335747      Y  \n",
      "429596      N  \n",
      "453451      Y  \n",
      "471596      N  \n",
      "479756      Y  \n",
      "555137      Y  \n",
      "558263      N  \n",
      "568854      Y  \n",
      "668305      N  \n",
      "671067      N  \n",
      "686628      N  \n",
      "727207      N  \n",
      "746077      Y  \n",
      "779854      Y  \n",
      "804343      Y  \n",
      "834790      N  \n",
      "872213      N  \n",
      "953247      Y  \n",
      "973015      Y  \n",
      "982525      Y  \n"
     ]
    }
   ],
   "source": [
    "#DUPLICATION\n",
    "duplicates = df[df.duplicated(keep='first')]\n",
    "print(\"First occurrences of duplicates:\")\n",
    "print(duplicates)"
   ]
  },
  {
   "cell_type": "code",
   "execution_count": 100,
   "metadata": {},
   "outputs": [
    {
     "name": "stdout",
     "output_type": "stream",
     "text": [
      "           sex  age  height  weight    SBP   DBP   BLDS  tot_chole  HDL_chole  \\\n",
      "0         Male   35     170      75  120.0  80.0   99.0      193.0       48.0   \n",
      "1         Male   30     180      80  130.0  82.0  106.0      228.0       55.0   \n",
      "2         Male   40     165      75  120.0  70.0   98.0      136.0       41.0   \n",
      "3         Male   50     175      80  145.0  87.0   95.0      201.0       76.0   \n",
      "4         Male   50     165      60  138.0  82.0  101.0      199.0       61.0   \n",
      "...        ...  ...     ...     ...    ...   ...    ...        ...        ...   \n",
      "991341    Male   45     175      80  114.0  80.0   88.0      198.0       46.0   \n",
      "991342    Male   35     170      75  119.0  83.0   83.0      133.0       40.0   \n",
      "991343  Female   40     155      50  110.0  70.0   90.0      205.0       96.0   \n",
      "991344    Male   25     175      60  119.0  74.0   69.0      122.0       38.0   \n",
      "991345    Male   50     160      70  133.0  79.0   99.0      225.0       39.0   \n",
      "\n",
      "        LDL_chole  triglyceride  hemoglobin  SMK_stat_type_cd DRK_YN  \n",
      "0           126.0          92.0        17.1               1.0      Y  \n",
      "1           148.0         121.0        15.8               3.0      N  \n",
      "2            74.0         104.0        15.8               1.0      N  \n",
      "3           104.0         106.0        17.6               1.0      N  \n",
      "4           117.0         104.0        13.8               1.0      N  \n",
      "...           ...           ...         ...               ...    ...  \n",
      "991341      125.0         132.0        15.0               1.0      N  \n",
      "991342       84.0          45.0        15.8               1.0      N  \n",
      "991343       77.0         157.0        14.3               3.0      Y  \n",
      "991344       73.0          53.0        14.5               1.0      N  \n",
      "991345      153.0         163.0        15.8               3.0      Y  \n",
      "\n",
      "[991320 rows x 14 columns]\n"
     ]
    }
   ],
   "source": [
    "# Removing duplicates\n",
    "df = df.drop_duplicates()\n",
    "\n",
    "print(df)"
   ]
  },
  {
   "cell_type": "code",
   "execution_count": 101,
   "metadata": {},
   "outputs": [
    {
     "name": "stdout",
     "output_type": "stream",
     "text": [
      "te dhenat null\n"
     ]
    },
    {
     "data": {
      "text/plain": [
       "sex                 0\n",
       "age                 0\n",
       "height              0\n",
       "weight              0\n",
       "SBP                 0\n",
       "DBP                 0\n",
       "BLDS                0\n",
       "tot_chole           0\n",
       "HDL_chole           0\n",
       "LDL_chole           0\n",
       "triglyceride        0\n",
       "hemoglobin          0\n",
       "SMK_stat_type_cd    0\n",
       "DRK_YN              0\n",
       "dtype: int64"
      ]
     },
     "execution_count": 101,
     "metadata": {},
     "output_type": "execute_result"
    }
   ],
   "source": [
    "# Completeness\n",
    "#identifiko te dhenat null\n",
    "print('te dhenat null')\n",
    "df.isnull().sum()"
   ]
  },
  {
   "cell_type": "code",
   "execution_count": 102,
   "metadata": {},
   "outputs": [
    {
     "name": "stdout",
     "output_type": "stream",
     "text": [
      "\n",
      "Aggregated Result:\n",
      "   SMK_stat_type_cd   tot_chole  HDL_chole   LDL_chole  triglyceride\n",
      "0               1.0  195.336580  59.258167  113.363826    115.054869\n",
      "1               2.0  194.950647  53.824927  112.836216    147.418242\n",
      "2               3.0  196.672411  52.945692  112.282886    167.755722\n"
     ]
    }
   ],
   "source": [
    "# Aggregation: Calculate average cholesterol levels for each smoking category\n",
    "agg_result = df.groupby('SMK_stat_type_cd').agg({\n",
    "    'tot_chole': 'mean',\n",
    "    'HDL_chole': 'mean',\n",
    "    'LDL_chole': 'mean',\n",
    "    'triglyceride': 'mean'\n",
    "}).reset_index()\n",
    "\n",
    "# Display the aggregated result\n",
    "print(\"\\nAggregated Result:\")\n",
    "print(agg_result)"
   ]
  },
  {
   "cell_type": "code",
   "execution_count": 103,
   "metadata": {},
   "outputs": [
    {
     "name": "stdout",
     "output_type": "stream",
     "text": [
      "\n",
      "Aggregated Result:\n",
      "   SMK_stat_type_cd     sex   tot_chole  HDL_chole   LDL_chole  triglyceride\n",
      "0               1.0  Female  196.580444  61.537568  113.561781    107.900007\n",
      "1               1.0    Male  192.030149  53.199083  112.837624    134.073864\n",
      "2               2.0  Female  194.461820  64.006409  108.393060    111.602362\n",
      "3               2.0    Male  194.983197  53.146956  113.132080    149.803173\n",
      "4               3.0  Female  195.129801  62.922021  107.716950    126.038282\n",
      "5               3.0    Male  196.799193  52.125773  112.658144    171.184328\n"
     ]
    }
   ],
   "source": [
    "agg_result = df.groupby(['SMK_stat_type_cd', 'sex']).agg({\n",
    "    'tot_chole': 'mean',\n",
    "    'HDL_chole': 'mean',\n",
    "    'LDL_chole': 'mean',\n",
    "    'triglyceride': 'mean'\n",
    "}).reset_index()\n",
    "\n",
    "# Display the aggregated result\n",
    "print(\"\\nAggregated Result:\")\n",
    "print(agg_result)"
   ]
  },
  {
   "cell_type": "code",
   "execution_count": 104,
   "metadata": {},
   "outputs": [],
   "source": [
    "bins = [20, 40, 60, 80, 100]\n",
    "labels = ['20-40', '40-60', '60-80', '80-100']\n",
    "df['Age_Binned'] = pd.cut(df['age'], bins=bins, labels=labels, right=False)"
   ]
  },
  {
   "cell_type": "code",
   "execution_count": 105,
   "metadata": {},
   "outputs": [
    {
     "data": {
      "image/png": "[encoded data removed]",
      "text/plain": [
       "<Figure size 1000x600 with 1 Axes>"
      ]
     },
     "metadata": {},
     "output_type": "display_data"
    }
   ],
   "source": [
    "plt.figure(figsize=(10, 6))\n",
    "plt.hist(df['age'], bins=bins, edgecolor='black', alpha=0.7)\n",
    "plt.title('Age Distribution with Bins')\n",
    "plt.xlabel('Age')\n",
    "plt.ylabel('Frequency')\n",
    "plt.show()"
   ]
  },
  {
   "cell_type": "code",
   "execution_count": 106,
   "metadata": {},
   "outputs": [
    {
     "name": "stdout",
     "output_type": "stream",
     "text": [
      "           sex  height  weight    SBP   DBP   BLDS  tot_chole  HDL_chole  \\\n",
      "0         Male     170      75  120.0  80.0   99.0      193.0       48.0   \n",
      "1         Male     180      80  130.0  82.0  106.0      228.0       55.0   \n",
      "2         Male     165      75  120.0  70.0   98.0      136.0       41.0   \n",
      "3         Male     175      80  145.0  87.0   95.0      201.0       76.0   \n",
      "4         Male     165      60  138.0  82.0  101.0      199.0       61.0   \n",
      "...        ...     ...     ...    ...   ...    ...        ...        ...   \n",
      "991341    Male     175      80  114.0  80.0   88.0      198.0       46.0   \n",
      "991342    Male     170      75  119.0  83.0   83.0      133.0       40.0   \n",
      "991343  Female     155      50  110.0  70.0   90.0      205.0       96.0   \n",
      "991344    Male     175      60  119.0  74.0   69.0      122.0       38.0   \n",
      "991345    Male     160      70  133.0  79.0   99.0      225.0       39.0   \n",
      "\n",
      "        LDL_chole  triglyceride  hemoglobin  SMK_stat_type_cd DRK_YN  \\\n",
      "0           126.0          92.0        17.1               1.0      Y   \n",
      "1           148.0         121.0        15.8               3.0      N   \n",
      "2            74.0         104.0        15.8               1.0      N   \n",
      "3           104.0         106.0        17.6               1.0      N   \n",
      "4           117.0         104.0        13.8               1.0      N   \n",
      "...           ...           ...         ...               ...    ...   \n",
      "991341      125.0         132.0        15.0               1.0      N   \n",
      "991342       84.0          45.0        15.8               1.0      N   \n",
      "991343       77.0         157.0        14.3               3.0      Y   \n",
      "991344       73.0          53.0        14.5               1.0      N   \n",
      "991345      153.0         163.0        15.8               3.0      Y   \n",
      "\n",
      "       Age_Binned  \n",
      "0           20-40  \n",
      "1           20-40  \n",
      "2           40-60  \n",
      "3           40-60  \n",
      "4           40-60  \n",
      "...           ...  \n",
      "991341      40-60  \n",
      "991342      20-40  \n",
      "991343      40-60  \n",
      "991344      20-40  \n",
      "991345      40-60  \n",
      "\n",
      "[991320 rows x 14 columns]\n"
     ]
    }
   ],
   "source": [
    "df = df.drop(columns=['age'])\n",
    "print(df)"
   ]
  },
  {
   "cell_type": "code",
   "execution_count": 116,
   "metadata": {},
   "outputs": [
    {
     "name": "stdout",
     "output_type": "stream",
     "text": [
      "DataFrame after Discretization:\n",
      "           sex  height  weight    SBP   DBP   BLDS  tot_chole  HDL_chole  \\\n",
      "0         Male     170      75  120.0  80.0   99.0      193.0       48.0   \n",
      "1         Male     180      80  130.0  82.0  106.0      228.0       55.0   \n",
      "2         Male     165      75  120.0  70.0   98.0      136.0       41.0   \n",
      "3         Male     175      80  145.0  87.0   95.0      201.0       76.0   \n",
      "4         Male     165      60  138.0  82.0  101.0      199.0       61.0   \n",
      "...        ...     ...     ...    ...   ...    ...        ...        ...   \n",
      "991341    Male     175      80  114.0  80.0   88.0      198.0       46.0   \n",
      "991342    Male     170      75  119.0  83.0   83.0      133.0       40.0   \n",
      "991343  Female     155      50  110.0  70.0   90.0      205.0       96.0   \n",
      "991344    Male     175      60  119.0  74.0   69.0      122.0       38.0   \n",
      "991345    Male     160      70  133.0  79.0   99.0      225.0       39.0   \n",
      "\n",
      "        LDL_chole  triglyceride  hemoglobin  SMK_stat_type_cd DRK_YN  \\\n",
      "0           126.0          92.0        17.1               1.0      Y   \n",
      "1           148.0         121.0        15.8               3.0      N   \n",
      "2            74.0         104.0        15.8               1.0      N   \n",
      "3           104.0         106.0        17.6               1.0      N   \n",
      "4           117.0         104.0        13.8               1.0      N   \n",
      "...           ...           ...         ...               ...    ...   \n",
      "991341      125.0         132.0        15.0               1.0      N   \n",
      "991342       84.0          45.0        15.8               1.0      N   \n",
      "991343       77.0         157.0        14.3               3.0      Y   \n",
      "991344       73.0          53.0        14.5               1.0      N   \n",
      "991345      153.0         163.0        15.8               3.0      Y   \n",
      "\n",
      "       Age_Binned BLDS_Category  \n",
      "0           20-40        Normal  \n",
      "1           20-40        Normal  \n",
      "2           40-60        Normal  \n",
      "3           40-60        Normal  \n",
      "4           40-60        Normal  \n",
      "...           ...           ...  \n",
      "991341      40-60           Low  \n",
      "991342      20-40           Low  \n",
      "991343      40-60        Normal  \n",
      "991344      20-40           Low  \n",
      "991345      40-60        Normal  \n",
      "\n",
      "[991320 rows x 15 columns]\n"
     ]
    }
   ],
   "source": [
    "bins = [60, 90, 130, 200]\n",
    "labels = ['Low', 'Normal', 'High']\n",
    "df['BLDS_Category'] = pd.cut(df['BLDS'], bins=bins, labels=labels, right=False)\n",
    "\n",
    "\n",
    "# Display the DataFrame after discretization\n",
    "print(\"DataFrame after Discretization:\")\n",
    "print(df)"
   ]
  },
  {
   "cell_type": "code",
   "execution_count": 108,
   "metadata": {},
   "outputs": [],
   "source": [
    "# Binarize those two columns and convert into numbers 0 and 1\n",
    "df_onehot = pd.get_dummies(df, columns=['sex', 'DRK_YN'], drop_first=True)"
   ]
  },
  {
   "cell_type": "code",
   "execution_count": 109,
   "metadata": {},
   "outputs": [
    {
     "data": {
      "text/html": [
       "<div>\n",
       "<style scoped>\n",
       "    .dataframe tbody tr th:only-of-type {\n",
       "        vertical-align: middle;\n",
       "    }\n",
       "\n",
       "    .dataframe tbody tr th {\n",
       "        vertical-align: top;\n",
       "    }\n",
       "\n",
       "    .dataframe thead th {\n",
       "        text-align: right;\n",
       "    }\n",
       "</style>\n",
       "<table border=\"1\" class=\"dataframe\">\n",
       "  <thead>\n",
       "    <tr style=\"text-align: right;\">\n",
       "      <th></th>\n",
       "      <th>height</th>\n",
       "      <th>weight</th>\n",
       "      <th>SBP</th>\n",
       "      <th>DBP</th>\n",
       "      <th>BLDS</th>\n",
       "      <th>tot_chole</th>\n",
       "      <th>HDL_chole</th>\n",
       "      <th>LDL_chole</th>\n",
       "      <th>triglyceride</th>\n",
       "      <th>hemoglobin</th>\n",
       "      <th>SMK_stat_type_cd</th>\n",
       "      <th>Age_Binned</th>\n",
       "      <th>sex_Male</th>\n",
       "      <th>DRK_YN_Y</th>\n",
       "    </tr>\n",
       "  </thead>\n",
       "  <tbody>\n",
       "    <tr>\n",
       "      <th>0</th>\n",
       "      <td>170</td>\n",
       "      <td>75</td>\n",
       "      <td>120.0</td>\n",
       "      <td>80.0</td>\n",
       "      <td>99.0</td>\n",
       "      <td>193.0</td>\n",
       "      <td>48.0</td>\n",
       "      <td>126.0</td>\n",
       "      <td>92.0</td>\n",
       "      <td>17.1</td>\n",
       "      <td>1.0</td>\n",
       "      <td>20-40</td>\n",
       "      <td>1</td>\n",
       "      <td>1</td>\n",
       "    </tr>\n",
       "    <tr>\n",
       "      <th>1</th>\n",
       "      <td>180</td>\n",
       "      <td>80</td>\n",
       "      <td>130.0</td>\n",
       "      <td>82.0</td>\n",
       "      <td>106.0</td>\n",
       "      <td>228.0</td>\n",
       "      <td>55.0</td>\n",
       "      <td>148.0</td>\n",
       "      <td>121.0</td>\n",
       "      <td>15.8</td>\n",
       "      <td>3.0</td>\n",
       "      <td>20-40</td>\n",
       "      <td>1</td>\n",
       "      <td>0</td>\n",
       "    </tr>\n",
       "    <tr>\n",
       "      <th>2</th>\n",
       "      <td>165</td>\n",
       "      <td>75</td>\n",
       "      <td>120.0</td>\n",
       "      <td>70.0</td>\n",
       "      <td>98.0</td>\n",
       "      <td>136.0</td>\n",
       "      <td>41.0</td>\n",
       "      <td>74.0</td>\n",
       "      <td>104.0</td>\n",
       "      <td>15.8</td>\n",
       "      <td>1.0</td>\n",
       "      <td>40-60</td>\n",
       "      <td>1</td>\n",
       "      <td>0</td>\n",
       "    </tr>\n",
       "    <tr>\n",
       "      <th>3</th>\n",
       "      <td>175</td>\n",
       "      <td>80</td>\n",
       "      <td>145.0</td>\n",
       "      <td>87.0</td>\n",
       "      <td>95.0</td>\n",
       "      <td>201.0</td>\n",
       "      <td>76.0</td>\n",
       "      <td>104.0</td>\n",
       "      <td>106.0</td>\n",
       "      <td>17.6</td>\n",
       "      <td>1.0</td>\n",
       "      <td>40-60</td>\n",
       "      <td>1</td>\n",
       "      <td>0</td>\n",
       "    </tr>\n",
       "    <tr>\n",
       "      <th>4</th>\n",
       "      <td>165</td>\n",
       "      <td>60</td>\n",
       "      <td>138.0</td>\n",
       "      <td>82.0</td>\n",
       "      <td>101.0</td>\n",
       "      <td>199.0</td>\n",
       "      <td>61.0</td>\n",
       "      <td>117.0</td>\n",
       "      <td>104.0</td>\n",
       "      <td>13.8</td>\n",
       "      <td>1.0</td>\n",
       "      <td>40-60</td>\n",
       "      <td>1</td>\n",
       "      <td>0</td>\n",
       "    </tr>\n",
       "    <tr>\n",
       "      <th>...</th>\n",
       "      <td>...</td>\n",
       "      <td>...</td>\n",
       "      <td>...</td>\n",
       "      <td>...</td>\n",
       "      <td>...</td>\n",
       "      <td>...</td>\n",
       "      <td>...</td>\n",
       "      <td>...</td>\n",
       "      <td>...</td>\n",
       "      <td>...</td>\n",
       "      <td>...</td>\n",
       "      <td>...</td>\n",
       "      <td>...</td>\n",
       "      <td>...</td>\n",
       "    </tr>\n",
       "    <tr>\n",
       "      <th>991341</th>\n",
       "      <td>175</td>\n",
       "      <td>80</td>\n",
       "      <td>114.0</td>\n",
       "      <td>80.0</td>\n",
       "      <td>88.0</td>\n",
       "      <td>198.0</td>\n",
       "      <td>46.0</td>\n",
       "      <td>125.0</td>\n",
       "      <td>132.0</td>\n",
       "      <td>15.0</td>\n",
       "      <td>1.0</td>\n",
       "      <td>40-60</td>\n",
       "      <td>1</td>\n",
       "      <td>0</td>\n",
       "    </tr>\n",
       "    <tr>\n",
       "      <th>991342</th>\n",
       "      <td>170</td>\n",
       "      <td>75</td>\n",
       "      <td>119.0</td>\n",
       "      <td>83.0</td>\n",
       "      <td>83.0</td>\n",
       "      <td>133.0</td>\n",
       "      <td>40.0</td>\n",
       "      <td>84.0</td>\n",
       "      <td>45.0</td>\n",
       "      <td>15.8</td>\n",
       "      <td>1.0</td>\n",
       "      <td>20-40</td>\n",
       "      <td>1</td>\n",
       "      <td>0</td>\n",
       "    </tr>\n",
       "    <tr>\n",
       "      <th>991343</th>\n",
       "      <td>155</td>\n",
       "      <td>50</td>\n",
       "      <td>110.0</td>\n",
       "      <td>70.0</td>\n",
       "      <td>90.0</td>\n",
       "      <td>205.0</td>\n",
       "      <td>96.0</td>\n",
       "      <td>77.0</td>\n",
       "      <td>157.0</td>\n",
       "      <td>14.3</td>\n",
       "      <td>3.0</td>\n",
       "      <td>40-60</td>\n",
       "      <td>0</td>\n",
       "      <td>1</td>\n",
       "    </tr>\n",
       "    <tr>\n",
       "      <th>991344</th>\n",
       "      <td>175</td>\n",
       "      <td>60</td>\n",
       "      <td>119.0</td>\n",
       "      <td>74.0</td>\n",
       "      <td>69.0</td>\n",
       "      <td>122.0</td>\n",
       "      <td>38.0</td>\n",
       "      <td>73.0</td>\n",
       "      <td>53.0</td>\n",
       "      <td>14.5</td>\n",
       "      <td>1.0</td>\n",
       "      <td>20-40</td>\n",
       "      <td>1</td>\n",
       "      <td>0</td>\n",
       "    </tr>\n",
       "    <tr>\n",
       "      <th>991345</th>\n",
       "      <td>160</td>\n",
       "      <td>70</td>\n",
       "      <td>133.0</td>\n",
       "      <td>79.0</td>\n",
       "      <td>99.0</td>\n",
       "      <td>225.0</td>\n",
       "      <td>39.0</td>\n",
       "      <td>153.0</td>\n",
       "      <td>163.0</td>\n",
       "      <td>15.8</td>\n",
       "      <td>3.0</td>\n",
       "      <td>40-60</td>\n",
       "      <td>1</td>\n",
       "      <td>1</td>\n",
       "    </tr>\n",
       "  </tbody>\n",
       "</table>\n",
       "<p>991320 rows × 14 columns</p>\n",
       "</div>"
      ],
      "text/plain": [
       "        height  weight    SBP   DBP   BLDS  tot_chole  HDL_chole  LDL_chole  \\\n",
       "0          170      75  120.0  80.0   99.0      193.0       48.0      126.0   \n",
       "1          180      80  130.0  82.0  106.0      228.0       55.0      148.0   \n",
       "2          165      75  120.0  70.0   98.0      136.0       41.0       74.0   \n",
       "3          175      80  145.0  87.0   95.0      201.0       76.0      104.0   \n",
       "4          165      60  138.0  82.0  101.0      199.0       61.0      117.0   \n",
       "...        ...     ...    ...   ...    ...        ...        ...        ...   \n",
       "991341     175      80  114.0  80.0   88.0      198.0       46.0      125.0   \n",
       "991342     170      75  119.0  83.0   83.0      133.0       40.0       84.0   \n",
       "991343     155      50  110.0  70.0   90.0      205.0       96.0       77.0   \n",
       "991344     175      60  119.0  74.0   69.0      122.0       38.0       73.0   \n",
       "991345     160      70  133.0  79.0   99.0      225.0       39.0      153.0   \n",
       "\n",
       "        triglyceride  hemoglobin  SMK_stat_type_cd Age_Binned  sex_Male  \\\n",
       "0               92.0        17.1               1.0      20-40         1   \n",
       "1              121.0        15.8               3.0      20-40         1   \n",
       "2              104.0        15.8               1.0      40-60         1   \n",
       "3              106.0        17.6               1.0      40-60         1   \n",
       "4              104.0        13.8               1.0      40-60         1   \n",
       "...              ...         ...               ...        ...       ...   \n",
       "991341         132.0        15.0               1.0      40-60         1   \n",
       "991342          45.0        15.8               1.0      20-40         1   \n",
       "991343         157.0        14.3               3.0      40-60         0   \n",
       "991344          53.0        14.5               1.0      20-40         1   \n",
       "991345         163.0        15.8               3.0      40-60         1   \n",
       "\n",
       "        DRK_YN_Y  \n",
       "0              1  \n",
       "1              0  \n",
       "2              0  \n",
       "3              0  \n",
       "4              0  \n",
       "...          ...  \n",
       "991341         0  \n",
       "991342         0  \n",
       "991343         1  \n",
       "991344         0  \n",
       "991345         1  \n",
       "\n",
       "[991320 rows x 14 columns]"
      ]
     },
     "execution_count": 109,
     "metadata": {},
     "output_type": "execute_result"
    }
   ],
   "source": [
    "df_onehot"
   ]
  }
 ],
 "metadata": {
  "kernelspec": {
   "display_name": "Python 3",
   "language": "python",
   "name": "python3"
  },
  "language_info": {
   "codemirror_mode": {
    "name": "ipython",
    "version": 3
   },
   "file_extension": ".py",
   "mimetype": "text/x-python",
   "name": "python",
   "nbconvert_exporter": "python",
   "pygments_lexer": "ipython3",
   "version": "3.10.13"
  }
 },
 "nbformat": 4,
 "nbformat_minor": 2
}
