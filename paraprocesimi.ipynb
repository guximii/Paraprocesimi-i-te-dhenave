{
 "cells": [
  {
   "cell_type": "code",
   "execution_count": 2,
   "metadata": {},
   "outputs": [],
   "source": [
    "import pandas as pd\n"
   ]
  },
  {
   "cell_type": "code",
   "execution_count": 3,
   "metadata": {},
   "outputs": [],
   "source": [
    "import numpy as np\n",
    "import matplotlib.pyplot as plt"
   ]
  },
  {
   "cell_type": "code",
   "execution_count": 4,
   "metadata": {},
   "outputs": [
    {
     "ename": "FileNotFoundError",
     "evalue": "[Errno 2] No such file or directory: './smoking_driking_dataset.csv'",
     "output_type": "error",
     "traceback": [
      "\u001b[0;31m---------------------------------------------------------------------------\u001b[0m",
      "\u001b[0;31mFileNotFoundError\u001b[0m                         Traceback (most recent call last)",
      "\u001b[1;32m/Users/leutrim/Documents/Learn/Paraprocesim i te dhemanve/Paraprocesimi-i-te-dhenave/paraprocesimi.ipynb Cell 3\u001b[0m line \u001b[0;36m3\n\u001b[1;32m      <a href='vscode-notebook-cell:/Users/leutrim/Documents/Learn/Paraprocesim%20i%20te%20dhemanve/Paraprocesimi-i-te-dhenave/paraprocesimi.ipynb#W2sZmlsZQ%3D%3D?line=0'>1</a>\u001b[0m \u001b[39mimport\u001b[39;00m \u001b[39mmatplotlib\u001b[39;00m\u001b[39m.\u001b[39;00m\u001b[39mpyplot\u001b[39;00m \u001b[39mas\u001b[39;00m \u001b[39mplt\u001b[39;00m\n\u001b[0;32m----> <a href='vscode-notebook-cell:/Users/leutrim/Documents/Learn/Paraprocesim%20i%20te%20dhemanve/Paraprocesimi-i-te-dhenave/paraprocesimi.ipynb#W2sZmlsZQ%3D%3D?line=2'>3</a>\u001b[0m df \u001b[39m=\u001b[39m pd\u001b[39m.\u001b[39;49mread_csv(\u001b[39m'\u001b[39;49m\u001b[39m./smoking_driking_dataset.csv\u001b[39;49m\u001b[39m'\u001b[39;49m)\n\u001b[1;32m      <a href='vscode-notebook-cell:/Users/leutrim/Documents/Learn/Paraprocesim%20i%20te%20dhemanve/Paraprocesimi-i-te-dhenave/paraprocesimi.ipynb#W2sZmlsZQ%3D%3D?line=4'>5</a>\u001b[0m \u001b[39m# shfaq te informatat per datasetin\u001b[39;00m\n\u001b[1;32m      <a href='vscode-notebook-cell:/Users/leutrim/Documents/Learn/Paraprocesim%20i%20te%20dhemanve/Paraprocesimi-i-te-dhenave/paraprocesimi.ipynb#W2sZmlsZQ%3D%3D?line=5'>6</a>\u001b[0m \u001b[39m# df.info()\u001b[39;00m\n\u001b[1;32m      <a href='vscode-notebook-cell:/Users/leutrim/Documents/Learn/Paraprocesim%20i%20te%20dhemanve/Paraprocesimi-i-te-dhenave/paraprocesimi.ipynb#W2sZmlsZQ%3D%3D?line=6'>7</a>\u001b[0m \n\u001b[1;32m      <a href='vscode-notebook-cell:/Users/leutrim/Documents/Learn/Paraprocesim%20i%20te%20dhemanve/Paraprocesimi-i-te-dhenave/paraprocesimi.ipynb#W2sZmlsZQ%3D%3D?line=7'>8</a>\u001b[0m \n\u001b[1;32m      <a href='vscode-notebook-cell:/Users/leutrim/Documents/Learn/Paraprocesim%20i%20te%20dhemanve/Paraprocesimi-i-te-dhenave/paraprocesimi.ipynb#W2sZmlsZQ%3D%3D?line=8'>9</a>\u001b[0m \u001b[39m# Outlier detection using Z-score\u001b[39;00m\n\u001b[1;32m     <a href='vscode-notebook-cell:/Users/leutrim/Documents/Learn/Paraprocesim%20i%20te%20dhemanve/Paraprocesimi-i-te-dhenave/paraprocesimi.ipynb#W2sZmlsZQ%3D%3D?line=9'>10</a>\u001b[0m \u001b[39m# Scatter plot\u001b[39;00m\n\u001b[1;32m     <a href='vscode-notebook-cell:/Users/leutrim/Documents/Learn/Paraprocesim%20i%20te%20dhemanve/Paraprocesimi-i-te-dhenave/paraprocesimi.ipynb#W2sZmlsZQ%3D%3D?line=10'>11</a>\u001b[0m fig, ax \u001b[39m=\u001b[39m plt\u001b[39m.\u001b[39msubplots(figsize \u001b[39m=\u001b[39m (\u001b[39m6\u001b[39m,\u001b[39m4\u001b[39m))\n",
      "File \u001b[0;32m/opt/homebrew/lib/python3.10/site-packages/pandas/util/_decorators.py:211\u001b[0m, in \u001b[0;36mdeprecate_kwarg.<locals>._deprecate_kwarg.<locals>.wrapper\u001b[0;34m(*args, **kwargs)\u001b[0m\n\u001b[1;32m    209\u001b[0m     \u001b[39melse\u001b[39;00m:\n\u001b[1;32m    210\u001b[0m         kwargs[new_arg_name] \u001b[39m=\u001b[39m new_arg_value\n\u001b[0;32m--> 211\u001b[0m \u001b[39mreturn\u001b[39;00m func(\u001b[39m*\u001b[39;49margs, \u001b[39m*\u001b[39;49m\u001b[39m*\u001b[39;49mkwargs)\n",
      "File \u001b[0;32m/opt/homebrew/lib/python3.10/site-packages/pandas/util/_decorators.py:331\u001b[0m, in \u001b[0;36mdeprecate_nonkeyword_arguments.<locals>.decorate.<locals>.wrapper\u001b[0;34m(*args, **kwargs)\u001b[0m\n\u001b[1;32m    325\u001b[0m \u001b[39mif\u001b[39;00m \u001b[39mlen\u001b[39m(args) \u001b[39m>\u001b[39m num_allow_args:\n\u001b[1;32m    326\u001b[0m     warnings\u001b[39m.\u001b[39mwarn(\n\u001b[1;32m    327\u001b[0m         msg\u001b[39m.\u001b[39mformat(arguments\u001b[39m=\u001b[39m_format_argument_list(allow_args)),\n\u001b[1;32m    328\u001b[0m         \u001b[39mFutureWarning\u001b[39;00m,\n\u001b[1;32m    329\u001b[0m         stacklevel\u001b[39m=\u001b[39mfind_stack_level(),\n\u001b[1;32m    330\u001b[0m     )\n\u001b[0;32m--> 331\u001b[0m \u001b[39mreturn\u001b[39;00m func(\u001b[39m*\u001b[39;49margs, \u001b[39m*\u001b[39;49m\u001b[39m*\u001b[39;49mkwargs)\n",
      "File \u001b[0;32m/opt/homebrew/lib/python3.10/site-packages/pandas/io/parsers/readers.py:950\u001b[0m, in \u001b[0;36mread_csv\u001b[0;34m(filepath_or_buffer, sep, delimiter, header, names, index_col, usecols, squeeze, prefix, mangle_dupe_cols, dtype, engine, converters, true_values, false_values, skipinitialspace, skiprows, skipfooter, nrows, na_values, keep_default_na, na_filter, verbose, skip_blank_lines, parse_dates, infer_datetime_format, keep_date_col, date_parser, dayfirst, cache_dates, iterator, chunksize, compression, thousands, decimal, lineterminator, quotechar, quoting, doublequote, escapechar, comment, encoding, encoding_errors, dialect, error_bad_lines, warn_bad_lines, on_bad_lines, delim_whitespace, low_memory, memory_map, float_precision, storage_options)\u001b[0m\n\u001b[1;32m    935\u001b[0m kwds_defaults \u001b[39m=\u001b[39m _refine_defaults_read(\n\u001b[1;32m    936\u001b[0m     dialect,\n\u001b[1;32m    937\u001b[0m     delimiter,\n\u001b[0;32m   (...)\u001b[0m\n\u001b[1;32m    946\u001b[0m     defaults\u001b[39m=\u001b[39m{\u001b[39m\"\u001b[39m\u001b[39mdelimiter\u001b[39m\u001b[39m\"\u001b[39m: \u001b[39m\"\u001b[39m\u001b[39m,\u001b[39m\u001b[39m\"\u001b[39m},\n\u001b[1;32m    947\u001b[0m )\n\u001b[1;32m    948\u001b[0m kwds\u001b[39m.\u001b[39mupdate(kwds_defaults)\n\u001b[0;32m--> 950\u001b[0m \u001b[39mreturn\u001b[39;00m _read(filepath_or_buffer, kwds)\n",
      "File \u001b[0;32m/opt/homebrew/lib/python3.10/site-packages/pandas/io/parsers/readers.py:605\u001b[0m, in \u001b[0;36m_read\u001b[0;34m(filepath_or_buffer, kwds)\u001b[0m\n\u001b[1;32m    602\u001b[0m _validate_names(kwds\u001b[39m.\u001b[39mget(\u001b[39m\"\u001b[39m\u001b[39mnames\u001b[39m\u001b[39m\"\u001b[39m, \u001b[39mNone\u001b[39;00m))\n\u001b[1;32m    604\u001b[0m \u001b[39m# Create the parser.\u001b[39;00m\n\u001b[0;32m--> 605\u001b[0m parser \u001b[39m=\u001b[39m TextFileReader(filepath_or_buffer, \u001b[39m*\u001b[39;49m\u001b[39m*\u001b[39;49mkwds)\n\u001b[1;32m    607\u001b[0m \u001b[39mif\u001b[39;00m chunksize \u001b[39mor\u001b[39;00m iterator:\n\u001b[1;32m    608\u001b[0m     \u001b[39mreturn\u001b[39;00m parser\n",
      "File \u001b[0;32m/opt/homebrew/lib/python3.10/site-packages/pandas/io/parsers/readers.py:1442\u001b[0m, in \u001b[0;36mTextFileReader.__init__\u001b[0;34m(self, f, engine, **kwds)\u001b[0m\n\u001b[1;32m   1439\u001b[0m     \u001b[39mself\u001b[39m\u001b[39m.\u001b[39moptions[\u001b[39m\"\u001b[39m\u001b[39mhas_index_names\u001b[39m\u001b[39m\"\u001b[39m] \u001b[39m=\u001b[39m kwds[\u001b[39m\"\u001b[39m\u001b[39mhas_index_names\u001b[39m\u001b[39m\"\u001b[39m]\n\u001b[1;32m   1441\u001b[0m \u001b[39mself\u001b[39m\u001b[39m.\u001b[39mhandles: IOHandles \u001b[39m|\u001b[39m \u001b[39mNone\u001b[39;00m \u001b[39m=\u001b[39m \u001b[39mNone\u001b[39;00m\n\u001b[0;32m-> 1442\u001b[0m \u001b[39mself\u001b[39m\u001b[39m.\u001b[39m_engine \u001b[39m=\u001b[39m \u001b[39mself\u001b[39;49m\u001b[39m.\u001b[39;49m_make_engine(f, \u001b[39mself\u001b[39;49m\u001b[39m.\u001b[39;49mengine)\n",
      "File \u001b[0;32m/opt/homebrew/lib/python3.10/site-packages/pandas/io/parsers/readers.py:1735\u001b[0m, in \u001b[0;36mTextFileReader._make_engine\u001b[0;34m(self, f, engine)\u001b[0m\n\u001b[1;32m   1733\u001b[0m     \u001b[39mif\u001b[39;00m \u001b[39m\"\u001b[39m\u001b[39mb\u001b[39m\u001b[39m\"\u001b[39m \u001b[39mnot\u001b[39;00m \u001b[39min\u001b[39;00m mode:\n\u001b[1;32m   1734\u001b[0m         mode \u001b[39m+\u001b[39m\u001b[39m=\u001b[39m \u001b[39m\"\u001b[39m\u001b[39mb\u001b[39m\u001b[39m\"\u001b[39m\n\u001b[0;32m-> 1735\u001b[0m \u001b[39mself\u001b[39m\u001b[39m.\u001b[39mhandles \u001b[39m=\u001b[39m get_handle(\n\u001b[1;32m   1736\u001b[0m     f,\n\u001b[1;32m   1737\u001b[0m     mode,\n\u001b[1;32m   1738\u001b[0m     encoding\u001b[39m=\u001b[39;49m\u001b[39mself\u001b[39;49m\u001b[39m.\u001b[39;49moptions\u001b[39m.\u001b[39;49mget(\u001b[39m\"\u001b[39;49m\u001b[39mencoding\u001b[39;49m\u001b[39m\"\u001b[39;49m, \u001b[39mNone\u001b[39;49;00m),\n\u001b[1;32m   1739\u001b[0m     compression\u001b[39m=\u001b[39;49m\u001b[39mself\u001b[39;49m\u001b[39m.\u001b[39;49moptions\u001b[39m.\u001b[39;49mget(\u001b[39m\"\u001b[39;49m\u001b[39mcompression\u001b[39;49m\u001b[39m\"\u001b[39;49m, \u001b[39mNone\u001b[39;49;00m),\n\u001b[1;32m   1740\u001b[0m     memory_map\u001b[39m=\u001b[39;49m\u001b[39mself\u001b[39;49m\u001b[39m.\u001b[39;49moptions\u001b[39m.\u001b[39;49mget(\u001b[39m\"\u001b[39;49m\u001b[39mmemory_map\u001b[39;49m\u001b[39m\"\u001b[39;49m, \u001b[39mFalse\u001b[39;49;00m),\n\u001b[1;32m   1741\u001b[0m     is_text\u001b[39m=\u001b[39;49mis_text,\n\u001b[1;32m   1742\u001b[0m     errors\u001b[39m=\u001b[39;49m\u001b[39mself\u001b[39;49m\u001b[39m.\u001b[39;49moptions\u001b[39m.\u001b[39;49mget(\u001b[39m\"\u001b[39;49m\u001b[39mencoding_errors\u001b[39;49m\u001b[39m\"\u001b[39;49m, \u001b[39m\"\u001b[39;49m\u001b[39mstrict\u001b[39;49m\u001b[39m\"\u001b[39;49m),\n\u001b[1;32m   1743\u001b[0m     storage_options\u001b[39m=\u001b[39;49m\u001b[39mself\u001b[39;49m\u001b[39m.\u001b[39;49moptions\u001b[39m.\u001b[39;49mget(\u001b[39m\"\u001b[39;49m\u001b[39mstorage_options\u001b[39;49m\u001b[39m\"\u001b[39;49m, \u001b[39mNone\u001b[39;49;00m),\n\u001b[1;32m   1744\u001b[0m )\n\u001b[1;32m   1745\u001b[0m \u001b[39massert\u001b[39;00m \u001b[39mself\u001b[39m\u001b[39m.\u001b[39mhandles \u001b[39mis\u001b[39;00m \u001b[39mnot\u001b[39;00m \u001b[39mNone\u001b[39;00m\n\u001b[1;32m   1746\u001b[0m f \u001b[39m=\u001b[39m \u001b[39mself\u001b[39m\u001b[39m.\u001b[39mhandles\u001b[39m.\u001b[39mhandle\n",
      "File \u001b[0;32m/opt/homebrew/lib/python3.10/site-packages/pandas/io/common.py:856\u001b[0m, in \u001b[0;36mget_handle\u001b[0;34m(path_or_buf, mode, encoding, compression, memory_map, is_text, errors, storage_options)\u001b[0m\n\u001b[1;32m    851\u001b[0m \u001b[39melif\u001b[39;00m \u001b[39misinstance\u001b[39m(handle, \u001b[39mstr\u001b[39m):\n\u001b[1;32m    852\u001b[0m     \u001b[39m# Check whether the filename is to be opened in binary mode.\u001b[39;00m\n\u001b[1;32m    853\u001b[0m     \u001b[39m# Binary mode does not support 'encoding' and 'newline'.\u001b[39;00m\n\u001b[1;32m    854\u001b[0m     \u001b[39mif\u001b[39;00m ioargs\u001b[39m.\u001b[39mencoding \u001b[39mand\u001b[39;00m \u001b[39m\"\u001b[39m\u001b[39mb\u001b[39m\u001b[39m\"\u001b[39m \u001b[39mnot\u001b[39;00m \u001b[39min\u001b[39;00m ioargs\u001b[39m.\u001b[39mmode:\n\u001b[1;32m    855\u001b[0m         \u001b[39m# Encoding\u001b[39;00m\n\u001b[0;32m--> 856\u001b[0m         handle \u001b[39m=\u001b[39m \u001b[39mopen\u001b[39;49m(\n\u001b[1;32m    857\u001b[0m             handle,\n\u001b[1;32m    858\u001b[0m             ioargs\u001b[39m.\u001b[39;49mmode,\n\u001b[1;32m    859\u001b[0m             encoding\u001b[39m=\u001b[39;49mioargs\u001b[39m.\u001b[39;49mencoding,\n\u001b[1;32m    860\u001b[0m             errors\u001b[39m=\u001b[39;49merrors,\n\u001b[1;32m    861\u001b[0m             newline\u001b[39m=\u001b[39;49m\u001b[39m\"\u001b[39;49m\u001b[39m\"\u001b[39;49m,\n\u001b[1;32m    862\u001b[0m         )\n\u001b[1;32m    863\u001b[0m     \u001b[39melse\u001b[39;00m:\n\u001b[1;32m    864\u001b[0m         \u001b[39m# Binary mode\u001b[39;00m\n\u001b[1;32m    865\u001b[0m         handle \u001b[39m=\u001b[39m \u001b[39mopen\u001b[39m(handle, ioargs\u001b[39m.\u001b[39mmode)\n",
      "\u001b[0;31mFileNotFoundError\u001b[0m: [Errno 2] No such file or directory: './smoking_driking_dataset.csv'"
     ]
    }
   ],
   "source": [
    "import matplotlib.pyplot as plt\n",
    "\n",
    "df = pd.read_csv('./smoking_driking_dataset.csv')\n",
    "\n",
    "# shfaq te informatat per datasetin\n",
    "# df.info()\n",
    "\n",
    "\n",
    "# Outlier detection using Z-score\n",
    "# Scatter plot\n",
    "fig, ax = plt.subplots(figsize = (6,4))\n",
    "#ax.scatter(df_diabetics['bmi'],df_diabetics['bp'])\n",
    "\n",
    "# x-axis label\n",
    "ax.set_xlabel('(body mass index of people)')\n",
    "\n",
    "# y-axis label\n",
    "ax.set_ylabel('(bp of the people )')\n",
    "plt.show()"
   ]
  },
  {
   "cell_type": "code",
   "execution_count": null,
   "metadata": {},
   "outputs": [],
   "source": [
    "# Drop columns that we don't need\n",
    "columns_to_drop = ['waistline', 'sight_left', 'sight_right', 'hear_left', 'hear_right', 'SGOT_AST', 'SGOT_ALT', 'gamma_GTP', 'serum_creatinine', 'urine_protein']\n",
    "df = df.drop(columns=columns_to_drop)\n",
    "\n",
    "print(\"DataFrame after dropping columns:\")\n",
    "print(df)"
   ]
  },
  {
   "cell_type": "code",
   "execution_count": null,
   "metadata": {},
   "outputs": [],
   "source": [
    "import great_expectations as gx\n",
    "\n",
    "context = gx.get_context()\n",
    "\n",
    "validator = context.sources.pandas_default.read_csv(\n",
    "    \"./smoking_driking_dataset.csv\"\n",
    ")"
   ]
  },
  {
   "cell_type": "code",
   "execution_count": null,
   "metadata": {},
   "outputs": [
    {
     "name": "stderr",
     "output_type": "stream",
     "text": [
      "Calculating Metrics: 100%|██████████| 8/8 [00:00<00:00, 34.19it/s] \n"
     ]
    },
    {
     "data": {
      "text/plain": [
       "{\n",
       "  \"success\": true,\n",
       "  \"result\": {\n",
       "    \"element_count\": 991346,\n",
       "    \"unexpected_count\": 0,\n",
       "    \"unexpected_percent\": 0.0,\n",
       "    \"partial_unexpected_list\": [],\n",
       "    \"missing_count\": 0,\n",
       "    \"missing_percent\": 0.0,\n",
       "    \"unexpected_percent_total\": 0.0,\n",
       "    \"unexpected_percent_nonmissing\": 0.0\n",
       "  },\n",
       "  \"meta\": {},\n",
       "  \"exception_info\": {\n",
       "    \"raised_exception\": false,\n",
       "    \"exception_traceback\": null,\n",
       "    \"exception_message\": null\n",
       "  }\n",
       "}"
      ]
     },
     "execution_count": 5,
     "metadata": {},
     "output_type": "execute_result"
    }
   ],
   "source": [
    "validator.expect_column_values_to_be_between(column='age', min_value=20, max_value=90)\n"
   ]
  },
  {
   "cell_type": "code",
   "execution_count": null,
   "metadata": {},
   "outputs": [
    {
     "name": "stderr",
     "output_type": "stream",
     "text": [
      "Calculating Metrics: 100%|██████████| 8/8 [00:00<00:00, 26.78it/s]  \n"
     ]
    },
    {
     "data": {
      "text/plain": [
       "{\n",
       "  \"success\": true,\n",
       "  \"result\": {\n",
       "    \"element_count\": 991346,\n",
       "    \"unexpected_count\": 0,\n",
       "    \"unexpected_percent\": 0.0,\n",
       "    \"partial_unexpected_list\": [],\n",
       "    \"missing_count\": 0,\n",
       "    \"missing_percent\": 0.0,\n",
       "    \"unexpected_percent_total\": 0.0,\n",
       "    \"unexpected_percent_nonmissing\": 0.0\n",
       "  },\n",
       "  \"meta\": {},\n",
       "  \"exception_info\": {\n",
       "    \"raised_exception\": false,\n",
       "    \"exception_traceback\": null,\n",
       "    \"exception_message\": null\n",
       "  }\n",
       "}"
      ]
     },
     "execution_count": 6,
     "metadata": {},
     "output_type": "execute_result"
    }
   ],
   "source": [
    "validator.expect_column_values_to_be_in_set(column='sex', value_set=['Male', 'Female'])"
   ]
  },
  {
   "cell_type": "code",
   "execution_count": null,
   "metadata": {},
   "outputs": [
    {
     "name": "stderr",
     "output_type": "stream",
     "text": [
      "Calculating Metrics: 100%|██████████| 8/8 [00:00<00:00, 29.56it/s]  \n"
     ]
    },
    {
     "data": {
      "text/plain": [
       "{\n",
       "  \"success\": true,\n",
       "  \"result\": {\n",
       "    \"element_count\": 991346,\n",
       "    \"unexpected_count\": 0,\n",
       "    \"unexpected_percent\": 0.0,\n",
       "    \"partial_unexpected_list\": [],\n",
       "    \"missing_count\": 0,\n",
       "    \"missing_percent\": 0.0,\n",
       "    \"unexpected_percent_total\": 0.0,\n",
       "    \"unexpected_percent_nonmissing\": 0.0\n",
       "  },\n",
       "  \"meta\": {},\n",
       "  \"exception_info\": {\n",
       "    \"raised_exception\": false,\n",
       "    \"exception_traceback\": null,\n",
       "    \"exception_message\": null\n",
       "  }\n",
       "}"
      ]
     },
     "execution_count": 7,
     "metadata": {},
     "output_type": "execute_result"
    }
   ],
   "source": [
    "validator.expect_column_values_to_be_in_set(column='DRK_YN', value_set=['Y', 'N'])"
   ]
  },
  {
   "cell_type": "code",
   "execution_count": null,
   "metadata": {},
   "outputs": [
    {
     "name": "stderr",
     "output_type": "stream",
     "text": [
      "Calculating Metrics: 100%|██████████| 8/8 [00:00<00:00, 45.92it/s]  \n"
     ]
    },
    {
     "data": {
      "text/plain": [
       "{\n",
       "  \"success\": true,\n",
       "  \"result\": {\n",
       "    \"element_count\": 991346,\n",
       "    \"unexpected_count\": 0,\n",
       "    \"unexpected_percent\": 0.0,\n",
       "    \"partial_unexpected_list\": [],\n",
       "    \"missing_count\": 0,\n",
       "    \"missing_percent\": 0.0,\n",
       "    \"unexpected_percent_total\": 0.0,\n",
       "    \"unexpected_percent_nonmissing\": 0.0\n",
       "  },\n",
       "  \"meta\": {},\n",
       "  \"exception_info\": {\n",
       "    \"raised_exception\": false,\n",
       "    \"exception_traceback\": null,\n",
       "    \"exception_message\": null\n",
       "  }\n",
       "}"
      ]
     },
     "execution_count": 8,
     "metadata": {},
     "output_type": "execute_result"
    }
   ],
   "source": [
    "validator.expect_column_values_to_be_in_set(column='SMK_stat_type_cd', value_set=[1.0, 2.0,3.0])"
   ]
  },
  {
   "cell_type": "code",
   "execution_count": null,
   "metadata": {},
   "outputs": [
    {
     "name": "stdout",
     "output_type": "stream",
     "text": [
      "First occurrences of duplicates:\n",
      "           sex  age  height  weight  waistline  sight_left  sight_right  \\\n",
      "159911  Female   40     170      85       88.0         0.9          0.9   \n",
      "175152    Male   65     170      75      101.1         0.6          0.7   \n",
      "246305  Female   50     155      70       90.8         1.0          1.0   \n",
      "280830    Male   45     170      75       86.4         1.2          0.7   \n",
      "284528  Female   65     150      55       86.0         0.9          0.9   \n",
      "290463  Female   20     160      50       70.0         1.0          1.0   \n",
      "335747    Male   50     180      95      101.0         1.5          1.5   \n",
      "429596    Male   75     160      60       83.0         1.2          0.7   \n",
      "453451    Male   35     170      65       85.0         0.9          1.2   \n",
      "471596  Female   45     165      65       82.0         1.0          1.0   \n",
      "479756    Male   50     165      65       77.0         0.8          1.0   \n",
      "555137    Male   30     165      95      106.3         0.7          1.0   \n",
      "558263  Female   65     145      50       76.0         1.0          0.9   \n",
      "568854    Male   50     170      65       87.8         1.5          1.5   \n",
      "668305  Female   55     140      50       78.0         0.9          1.2   \n",
      "671067    Male   60     165      70       84.0         0.4          0.1   \n",
      "686628  Female   65     155      55       69.2         0.7          0.7   \n",
      "727207    Male   40     170      70       82.0         0.8          1.5   \n",
      "746077    Male   25     180      70       76.0         1.0          1.2   \n",
      "779854    Male   55     170      60       83.0         1.5          1.5   \n",
      "804343    Male   40     175      80       88.9         1.2          1.2   \n",
      "834790  Female   30     150      45       60.0         1.2          0.9   \n",
      "872213    Male   35     170     105      115.0         0.3          0.2   \n",
      "953247    Male   35     180      85       91.4         1.2          1.5   \n",
      "973015    Male   35     170      95       99.0         1.0          1.2   \n",
      "982525  Female   40     160      55       67.0         2.0          1.5   \n",
      "\n",
      "        hear_left  hear_right    SBP  ...  LDL_chole  triglyceride  \\\n",
      "159911        1.0         1.0  120.0  ...      121.0         115.0   \n",
      "175152        1.0         1.0  130.0  ...      109.0         140.0   \n",
      "246305        1.0         1.0  150.0  ...      150.0         183.0   \n",
      "280830        1.0         1.0  150.0  ...      122.0         499.0   \n",
      "284528        1.0         1.0  120.0  ...      139.0         136.0   \n",
      "290463        1.0         1.0  106.0  ...       98.0          56.0   \n",
      "335747        1.0         2.0  177.0  ...      120.0         105.0   \n",
      "429596        1.0         1.0  105.0  ...      150.0          82.0   \n",
      "453451        1.0         1.0  130.0  ...       80.0         126.0   \n",
      "471596        1.0         1.0  120.0  ...      103.0          53.0   \n",
      "479756        1.0         1.0  115.0  ...      154.0          71.0   \n",
      "555137        1.0         1.0  122.0  ...      140.0         313.0   \n",
      "558263        1.0         1.0  154.0  ...      160.0         212.0   \n",
      "568854        1.0         1.0  127.0  ...      102.0         113.0   \n",
      "668305        1.0         1.0  134.0  ...      121.0         456.0   \n",
      "671067        1.0         1.0  130.0  ...      123.0         113.0   \n",
      "686628        1.0         1.0  130.0  ...      185.0         283.0   \n",
      "727207        1.0         1.0  120.0  ...      131.0         106.0   \n",
      "746077        1.0         1.0  122.0  ...       57.0          92.0   \n",
      "779854        1.0         1.0  128.0  ...      126.0         294.0   \n",
      "804343        1.0         1.0  138.0  ...      146.0         635.0   \n",
      "834790        1.0         1.0  100.0  ...       90.0          93.0   \n",
      "872213        1.0         1.0  130.0  ...      120.0         200.0   \n",
      "953247        1.0         1.0  120.0  ...       83.0         461.0   \n",
      "973015        1.0         1.0  122.0  ...      168.0         117.0   \n",
      "982525        1.0         1.0  120.0  ...      102.0          87.0   \n",
      "\n",
      "        hemoglobin  urine_protein  serum_creatinine  SGOT_AST  SGOT_ALT  \\\n",
      "159911        10.4            1.0               0.9      17.0      14.0   \n",
      "175152        17.1            1.0               1.0      24.0      31.0   \n",
      "246305        14.9            1.0               0.8      24.0      22.0   \n",
      "280830        14.9            1.0               0.8      23.0      11.0   \n",
      "284528        11.9            1.0               0.7      27.0      18.0   \n",
      "290463        12.7            1.0               0.8      18.0      13.0   \n",
      "335747        15.0            3.0               0.9      19.0      27.0   \n",
      "429596        16.0            2.0               1.1      27.0      22.0   \n",
      "453451        14.7            1.0               0.9      14.0      13.0   \n",
      "471596        13.6            1.0               0.5      17.0      19.0   \n",
      "479756        15.3            1.0               0.9      28.0      21.0   \n",
      "555137        17.4            1.0               0.9      16.0      28.0   \n",
      "558263        16.2            1.0               0.7      21.0      22.0   \n",
      "568854        14.4            1.0               0.8      32.0      30.0   \n",
      "668305        13.8            1.0               0.5      21.0      24.0   \n",
      "671067        16.8            1.0               0.9      19.0      14.0   \n",
      "686628        13.8            3.0               0.6      33.0      30.0   \n",
      "727207        15.6            1.0               1.3      27.0      29.0   \n",
      "746077        16.1            1.0               1.0      19.0      15.0   \n",
      "779854        16.7            1.0               1.0      24.0      31.0   \n",
      "804343        15.3            1.0               0.9      27.0      29.0   \n",
      "834790        12.0            1.0               0.9      16.0      11.0   \n",
      "872213        15.0            1.0               1.0      16.0      37.0   \n",
      "953247        15.3            2.0               0.8      20.0      29.0   \n",
      "973015        15.2            1.0               1.1      16.0      23.0   \n",
      "982525        13.0            1.0               0.7      16.0      11.0   \n",
      "\n",
      "        gamma_GTP  SMK_stat_type_cd  DRK_YN  \n",
      "159911       33.0               1.0       N  \n",
      "175152       26.0               3.0       N  \n",
      "246305       42.0               1.0       N  \n",
      "280830      342.0               3.0       Y  \n",
      "284528       14.0               1.0       N  \n",
      "290463       11.0               1.0       N  \n",
      "335747       61.0               3.0       Y  \n",
      "429596       26.0               1.0       N  \n",
      "453451       10.0               2.0       Y  \n",
      "471596       28.0               1.0       N  \n",
      "479756       29.0               2.0       Y  \n",
      "555137       35.0               2.0       Y  \n",
      "558263       25.0               1.0       N  \n",
      "568854       58.0               2.0       Y  \n",
      "668305       27.0               1.0       N  \n",
      "671067       19.0               3.0       N  \n",
      "686628       24.0               1.0       N  \n",
      "727207       19.0               3.0       N  \n",
      "746077       21.0               3.0       Y  \n",
      "779854       26.0               2.0       Y  \n",
      "804343       42.0               3.0       Y  \n",
      "834790       24.0               1.0       N  \n",
      "872213       68.0               3.0       N  \n",
      "953247       72.0               3.0       Y  \n",
      "973015       34.0               2.0       Y  \n",
      "982525       43.0               2.0       Y  \n",
      "\n",
      "[26 rows x 24 columns]\n"
     ]
    }
   ],
   "source": [
    "#DUPLICATION\n",
    "duplicates = df[df.duplicated(keep='first')]\n",
    "print(\"First occurrences of duplicates:\")\n",
    "print(duplicates)"
   ]
  },
  {
   "cell_type": "code",
   "execution_count": null,
   "metadata": {},
   "outputs": [
    {
     "name": "stdout",
     "output_type": "stream",
     "text": [
      "           sex  age  height  weight  waistline  sight_left  sight_right  \\\n",
      "0         Male   35     170      75       90.0         1.0          1.0   \n",
      "1         Male   30     180      80       89.0         0.9          1.2   \n",
      "2         Male   40     165      75       91.0         1.2          1.5   \n",
      "3         Male   50     175      80       91.0         1.5          1.2   \n",
      "4         Male   50     165      60       80.0         1.0          1.2   \n",
      "...        ...  ...     ...     ...        ...         ...          ...   \n",
      "991341    Male   45     175      80       92.1         1.5          1.5   \n",
      "991342    Male   35     170      75       86.0         1.0          1.5   \n",
      "991343  Female   40     155      50       68.0         1.0          0.7   \n",
      "991344    Male   25     175      60       72.0         1.5          1.0   \n",
      "991345    Male   50     160      70       90.5         1.0          1.5   \n",
      "\n",
      "        hear_left  hear_right    SBP  ...  LDL_chole  triglyceride  \\\n",
      "0             1.0         1.0  120.0  ...      126.0          92.0   \n",
      "1             1.0         1.0  130.0  ...      148.0         121.0   \n",
      "2             1.0         1.0  120.0  ...       74.0         104.0   \n",
      "3             1.0         1.0  145.0  ...      104.0         106.0   \n",
      "4             1.0         1.0  138.0  ...      117.0         104.0   \n",
      "...           ...         ...    ...  ...        ...           ...   \n",
      "991341        1.0         1.0  114.0  ...      125.0         132.0   \n",
      "991342        1.0         1.0  119.0  ...       84.0          45.0   \n",
      "991343        1.0         1.0  110.0  ...       77.0         157.0   \n",
      "991344        1.0         1.0  119.0  ...       73.0          53.0   \n",
      "991345        1.0         1.0  133.0  ...      153.0         163.0   \n",
      "\n",
      "        hemoglobin  urine_protein  serum_creatinine  SGOT_AST  SGOT_ALT  \\\n",
      "0             17.1            1.0               1.0      21.0      35.0   \n",
      "1             15.8            1.0               0.9      20.0      36.0   \n",
      "2             15.8            1.0               0.9      47.0      32.0   \n",
      "3             17.6            1.0               1.1      29.0      34.0   \n",
      "4             13.8            1.0               0.8      19.0      12.0   \n",
      "...            ...            ...               ...       ...       ...   \n",
      "991341        15.0            1.0               1.0      26.0      36.0   \n",
      "991342        15.8            1.0               1.1      14.0      17.0   \n",
      "991343        14.3            1.0               0.8      30.0      27.0   \n",
      "991344        14.5            1.0               0.8      21.0      14.0   \n",
      "991345        15.8            1.0               0.9      24.0      43.0   \n",
      "\n",
      "        gamma_GTP  SMK_stat_type_cd  DRK_YN  \n",
      "0            40.0               1.0       Y  \n",
      "1            27.0               3.0       N  \n",
      "2            68.0               1.0       N  \n",
      "3            18.0               1.0       N  \n",
      "4            25.0               1.0       N  \n",
      "...           ...               ...     ...  \n",
      "991341       27.0               1.0       N  \n",
      "991342       15.0               1.0       N  \n",
      "991343       17.0               3.0       Y  \n",
      "991344       17.0               1.0       N  \n",
      "991345       36.0               3.0       Y  \n",
      "\n",
      "[991320 rows x 24 columns]\n"
     ]
    }
   ],
   "source": [
    "# Removing duplicates\n",
    "cleaned_df = df.drop_duplicates()\n",
    "\n",
    "print(cleaned_df)"
   ]
  },
  {
   "cell_type": "code",
   "execution_count": null,
   "metadata": {},
   "outputs": [
    {
     "name": "stdout",
     "output_type": "stream",
     "text": [
      "te dhenat null\n"
     ]
    },
    {
     "data": {
      "text/plain": [
       "sex                 0\n",
       "age                 0\n",
       "height              0\n",
       "weight              0\n",
       "waistline           0\n",
       "sight_left          0\n",
       "sight_right         0\n",
       "hear_left           0\n",
       "hear_right          0\n",
       "SBP                 0\n",
       "DBP                 0\n",
       "BLDS                0\n",
       "tot_chole           0\n",
       "HDL_chole           0\n",
       "LDL_chole           0\n",
       "triglyceride        0\n",
       "hemoglobin          0\n",
       "urine_protein       0\n",
       "serum_creatinine    0\n",
       "SGOT_AST            0\n",
       "SGOT_ALT            0\n",
       "gamma_GTP           0\n",
       "SMK_stat_type_cd    0\n",
       "DRK_YN              0\n",
       "dtype: int64"
      ]
     },
     "execution_count": 11,
     "metadata": {},
     "output_type": "execute_result"
    }
   ],
   "source": [
    "# Completeness\n",
    "#identifiko te dhenat null\n",
    "print('te dhenat null')\n",
    "df.isnull().sum()"
   ]
  },
  {
   "cell_type": "code",
   "execution_count": null,
   "metadata": {},
   "outputs": [
    {
     "name": "stdout",
     "output_type": "stream",
     "text": [
      "\n",
      "Aggregated Result:\n",
      "   SMK_stat_type_cd   tot_chole  HDL_chole   LDL_chole  triglyceride\n",
      "0               1.0  195.336906  59.258090  113.364130    115.055730\n",
      "1               2.0  194.951243  53.824900  112.836686    147.418752\n",
      "2               3.0  196.672154  52.945241  112.282888    167.759654\n"
     ]
    }
   ],
   "source": [
    "# Aggregation: Calculate average cholesterol levels for each smoking category\n",
    "agg_result = df.groupby('SMK_stat_type_cd').agg({\n",
    "    'tot_chole': 'mean',\n",
    "    'HDL_chole': 'mean',\n",
    "    'LDL_chole': 'mean',\n",
    "    'triglyceride': 'mean'\n",
    "}).reset_index()\n",
    "\n",
    "# Display the aggregated result\n",
    "print(\"\\nAggregated Result:\")\n",
    "print(agg_result)"
   ]
  },
  {
   "cell_type": "code",
   "execution_count": null,
   "metadata": {},
   "outputs": [
    {
     "name": "stdout",
     "output_type": "stream",
     "text": [
      "\n",
      "Aggregated Result:\n",
      "   SMK_stat_type_cd     sex   tot_chole  HDL_chole   LDL_chole  triglyceride\n",
      "0               1.0  Female  196.580816  61.537431  113.562112    107.901414\n",
      "1               1.0    Male  192.030307  53.199076  112.837850    134.073548\n",
      "2               2.0  Female  194.460862  64.006408  108.392475    111.600110\n",
      "3               2.0    Male  194.983899  53.146890  113.132636    149.803997\n",
      "4               3.0  Female  195.129801  62.922021  107.716950    126.038282\n",
      "5               3.0    Male  196.798908  52.125322  112.658129    171.188426\n"
     ]
    }
   ],
   "source": [
    "agg_result = df.groupby(['SMK_stat_type_cd', 'sex']).agg({\n",
    "    'tot_chole': 'mean',\n",
    "    'HDL_chole': 'mean',\n",
    "    'LDL_chole': 'mean',\n",
    "    'triglyceride': 'mean'\n",
    "}).reset_index()\n",
    "\n",
    "# Display the aggregated result\n",
    "print(\"\\nAggregated Result:\")\n",
    "print(agg_result)"
   ]
  },
  {
   "cell_type": "code",
   "execution_count": null,
   "metadata": {},
   "outputs": [],
   "source": [
    "bins = [20, 40, 60, 80, 100]\n",
    "labels = ['20-40', '40-60', '60-80', '80-100']\n",
    "df['Age_Binned'] = pd.cut(df['age'], bins=bins, labels=labels, right=False)"
   ]
  },
  {
   "cell_type": "code",
   "execution_count": null,
   "metadata": {},
   "outputs": [
    {
     "data": {
      "image/png": "[encoded data removed]",
      "text/plain": [
       "<Figure size 720x432 with 1 Axes>"
      ]
     },
     "metadata": {
      "needs_background": "light"
     },
     "output_type": "display_data"
    }
   ],
   "source": [
    "plt.figure(figsize=(10, 6))\n",
    "plt.hist(df['age'], bins=bins, edgecolor='black', alpha=0.7)\n",
    "plt.title('Age Distribution with Bins')\n",
    "plt.xlabel('Age')\n",
    "plt.ylabel('Frequency')\n",
    "plt.show()"
   ]
  },
  {
   "cell_type": "code",
   "execution_count": null,
   "metadata": {},
   "outputs": [],
   "source": [
    "bins = [80, 90, 100, 110]\n",
    "labels = ['Low', 'Normal', 'High']\n",
    "cleaned_df['BLDS_Category'] = pd.cut(cleaned_df['BLDS'], bins=bins, labels=labels, right=False)\n",
    "\n",
    "\n",
    "# Display the DataFrame after discretization\n",
    "print(\"DataFrame after Discretization:\")\n",
    "print(cleaned_df)"
   ]
  }
 ],
 "metadata": {
  "kernelspec": {
   "display_name": "Python 3",
   "language": "python",
   "name": "python3"
  },
  "language_info": {
   "codemirror_mode": {
    "name": "ipython",
    "version": 3
   },
   "file_extension": ".py",
   "mimetype": "text/x-python",
   "name": "python",
   "nbconvert_exporter": "python",
   "pygments_lexer": "ipython3",
   "version": "3.9.7"
  }
 },
 "nbformat": 4,
 "nbformat_minor": 2
}
